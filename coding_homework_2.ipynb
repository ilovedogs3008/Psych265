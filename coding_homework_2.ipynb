{
  "nbformat": 4,
  "nbformat_minor": 0,
  "metadata": {
    "colab": {
      "provenance": [],
      "include_colab_link": true
    },
    "kernelspec": {
      "name": "python3",
      "display_name": "Python 3"
    },
    "language_info": {
      "name": "python"
    }
  },
  "cells": [
    {
      "cell_type": "markdown",
      "metadata": {
        "id": "view-in-github",
        "colab_type": "text"
      },
      "source": [
        "<a href=\"https://colab.research.google.com/github/ilovedogs3008/Psych265/blob/main/coding_homework_2.ipynb\" target=\"_parent\"><img src=\"https://colab.research.google.com/assets/colab-badge.svg\" alt=\"Open In Colab\"/></a>"
      ]
    },
    {
      "cell_type": "markdown",
      "source": [
        "# Coding Homework #2\n",
        "\n",
        "**Instructions:**\n",
        "\n",
        "1. Make a *Markdown Cell* that contains the following information:\n",
        "- Your name (small header)\n",
        "- The name of this class (italicized)\n",
        "- The date (bolded)\n",
        "\n",
        "2. Make a *Code Cell* that imports <code>numpy</code> as <code>np</code>, <code>matplotlib.pyplot</code> as <code>plt</code>, <code>statistics</code> as <code>st</code>.\n",
        "\n",
        "3. Make a *Code Cell* that imports your <code>v_rest1.csv</code> and <code>v_rest2.csv</code> files as <code>numpy</code> arrays called <code>v_rest1</code> and <code>v_rest2</code> respectively. You're used to doing this with the <code>pd.read_csv</code> function for <code>pandas</code>, but can accomplish the same thing using the <code>np.loadtxt</code> function for <code>numpy</code>.\n",
        "\n",
        "4. Make a *Code Cell* that concatenates <code>v_rest1</code> and <code>v_rest2</code> into a matrix with 2 rows and 13 columns named <code>v_rest</code>.\n",
        "\n",
        "5. Make a *Code Cell* that prints the <code>size</code> of <code>v_rest</code>.\n",
        "\n",
        "6. Make a *Code Cell* that returns the first row of <code>v_rest</code>.\n",
        "\n",
        "7. Make a *Code Cell* that returns the sum of the values in the third column of <code>v_rest</code>. You can accomplish this by using <code>v_rest[].sum()</code>, with your index inside of the brackets. As an example, if I wanted to return the sum of the first row of <code>v_rest</code>, I could use <code>v_rest[0].sum()</code> to get my answer.\n",
        "\n",
        "8. Make a *Code Cell* that returns the second-to-last value in the second row of <code>v_rest</code> (use negative indexing for the column value).\n",
        "\n",
        "9. Create a *Code Cell* that makes a histogram of the values in the first row of <code>v_rest</code> (you can do this by using the <code>plt.hist()</code> function). Label your axes.\n",
        "\n",
        "10. Create a *Code Cell* that takes the mean of the values in the first row of <code>v_rest</code>, and assigns the mean to a variable called <code>v_rest_mean_1</code>. Do the same thing for the second row of <code>v_rest</code>, and assign the mean value of the second row to a variable called <code>v_rest_mean_2</code>. You can get the means by using the <code>st.mean()</code> function (remember to put what you want the mean *of* inside the parentheses of the function).\n",
        "\n",
        "11. Create a *Markdown Cell* that describes the difference in means between the two rows. Which one is bigger?\n",
        "\n",
        "12. How can we test whether the difference in means is *meaningful* (statistically significant)? When we're comparing two means, we can use a t-test (assuming the data are normally distributed). To use a t-test on our data, we will first need to import the <code>scipy</code> package. Create a new *Code Cell* that runs the following:\n",
        "\n",
        "<code>\n",
        "import scipy.stats as stats\n",
        "</code>\n",
        "\n",
        "13. Now, we can perform a t-test on the two rows of <code>v_rest</code>. To do this, create a new *Code Cell* that uses the <code>stats.ttest_ind()</code> function - for example:\n",
        "\n",
        "<code>\n",
        "stats.ttest_ind(row1, row2)\n",
        "</code>\n",
        "\n",
        "Replace <code>row1</code> and <code>row2</code> in this case with the first and second rows, respectively, of <code>v_rest</code>.\n",
        "\n",
        "14. Make a *Markdown Cell* that describes the results of your t-test. You should have <code>statistic</code> variable and a <code>pvalue</code> variable. The way to interpret your p-value is as a probability - specifically, the probability that the mean of one distribution could be found in the second distribution. Typically, results are considered to be \"statistically significant\" if the probability is lower than 5% - or 0.05. What is your p-value? Based on this p-value, do you think it is likely that the means are significantly different, or do you think it is likely that they are not?\n",
        "\n",
        "15. Make sure to add at least one line with a <code>#</code> in front of it to each *Code Cell* to describe what each cell does.\n",
        "\n",
        "16. Save a copy of this notebook to your GitHub repo with the title \"coding_homework_2.ipynb\"."
      ],
      "metadata": {
        "id": "CXEcCBSA_prs"
      }
    },
    {
      "cell_type": "markdown",
      "source": [
        "###Jefrey Alexander\n",
        "*NEUR 265: Intro to Neural Data Analysis*\n",
        "\n",
        "**Feb 21st, 2023**"
      ],
      "metadata": {
        "id": "y9jfPZ_5xf9Q"
      }
    },
    {
      "cell_type": "code",
      "source": [
        "#Task 2: Importing numpy as np, matplotlib as plt, and statistics as st; proceed to print \"done\"\n",
        "import numpy as np\n",
        "import matplotlib.pyplot as plt\n",
        "import statistics as st\n",
        "print('done')"
      ],
      "metadata": {
        "colab": {
          "base_uri": "https://localhost:8080/"
        },
        "id": "szsxu5V6xefV",
        "outputId": "725168d2-f94f-4e88-a003-cd0d02f76cf5"
      },
      "execution_count": null,
      "outputs": [
        {
          "output_type": "stream",
          "name": "stdout",
          "text": [
            "done\n"
          ]
        }
      ]
    },
    {
      "cell_type": "code",
      "source": [
        "#Task 3: Importing v_rest1 and v_rest2 using np.loadtxt; proceed to print \"done\" and the new variables\n",
        "\n",
        "url = 'https://raw.githubusercontent.com/ilovedogs3008/Psych265/main/vrest_1'\n",
        "v_rest1 = np.loadtxt(url)\n",
        "\n",
        "url2 = 'https://raw.githubusercontent.com/ilovedogs3008/Psych265/main/vrest_2%20-%20vrest_2.csv'\n",
        "v_rest2 = np.loadtxt(url2)\n",
        "\n",
        "print('done')\n",
        "\n",
        "v_rest1, v_rest2"
      ],
      "metadata": {
        "colab": {
          "base_uri": "https://localhost:8080/"
        },
        "id": "ctQPa5z8yuMs",
        "outputId": "16c991f2-0066-4ced-b16c-b61414137d42"
      },
      "execution_count": null,
      "outputs": [
        {
          "output_type": "stream",
          "name": "stdout",
          "text": [
            "done\n"
          ]
        },
        {
          "output_type": "execute_result",
          "data": {
            "text/plain": [
              "(array([-63.19911671, -69.14593159, -74.4240675 , -78.84287548,\n",
              "        -70.69300249, -74.98257065, -66.84239197, -67.17331823,\n",
              "        -70.37264061, -67.95858086, -58.83831995, -68.92901459,\n",
              "        -66.94292311]),\n",
              " array([-79.66361847, -74.48647586, -66.58917287, -80.65758792,\n",
              "        -67.405326  , -66.95506516, -71.02812424, -71.86094971,\n",
              "        -75.52787495, -64.481422  , -59.02925377, -76.87584305,\n",
              "        -62.81155809]))"
            ]
          },
          "metadata": {},
          "execution_count": 27
        }
      ]
    },
    {
      "cell_type": "markdown",
      "source": [],
      "metadata": {
        "id": "BFsHSYSIKb6h"
      }
    },
    {
      "cell_type": "code",
      "source": [
        "# Task 4: Creating 2*13 V_rest \n",
        "v_rest = np.vstack((v_rest1, v_rest2))\n",
        "\n",
        "v_rest\n"
      ],
      "metadata": {
        "colab": {
          "base_uri": "https://localhost:8080/"
        },
        "id": "AXQBsirxN0YM",
        "outputId": "86a07b74-6a2c-4ec1-ed4e-f57cd11c8645"
      },
      "execution_count": null,
      "outputs": [
        {
          "output_type": "execute_result",
          "data": {
            "text/plain": [
              "array([[-63.19911671, -69.14593159, -74.4240675 , -78.84287548,\n",
              "        -70.69300249, -74.98257065, -66.84239197, -67.17331823,\n",
              "        -70.37264061, -67.95858086, -58.83831995, -68.92901459,\n",
              "        -66.94292311],\n",
              "       [-79.66361847, -74.48647586, -66.58917287, -80.65758792,\n",
              "        -67.405326  , -66.95506516, -71.02812424, -71.86094971,\n",
              "        -75.52787495, -64.481422  , -59.02925377, -76.87584305,\n",
              "        -62.81155809]])"
            ]
          },
          "metadata": {},
          "execution_count": 28
        }
      ]
    },
    {
      "cell_type": "code",
      "source": [
        "# Task 5: print size of v_rest\n",
        "print(v_rest.shape)"
      ],
      "metadata": {
        "colab": {
          "base_uri": "https://localhost:8080/"
        },
        "id": "M4fVvrR80jwQ",
        "outputId": "7a0470a0-949e-416a-892c-0bd5cc5e8dbb"
      },
      "execution_count": null,
      "outputs": [
        {
          "output_type": "stream",
          "name": "stdout",
          "text": [
            "(2, 13)\n"
          ]
        }
      ]
    },
    {
      "cell_type": "code",
      "source": [
        "# Task 6: Return the first row of v_rest.\n",
        "v_rest[0]\n"
      ],
      "metadata": {
        "colab": {
          "base_uri": "https://localhost:8080/"
        },
        "id": "q2yCnrr4SZqD",
        "outputId": "325f4253-6c51-4ff2-fdfb-aff5cc803551"
      },
      "execution_count": null,
      "outputs": [
        {
          "output_type": "execute_result",
          "data": {
            "text/plain": [
              "array([-63.19911671, -69.14593159, -74.4240675 , -78.84287548,\n",
              "       -70.69300249, -74.98257065, -66.84239197, -67.17331823,\n",
              "       -70.37264061, -67.95858086, -58.83831995, -68.92901459,\n",
              "       -66.94292311])"
            ]
          },
          "metadata": {},
          "execution_count": 30
        }
      ]
    },
    {
      "cell_type": "code",
      "source": [
        "#Task 7: return the sum of the third column.\n",
        "v_rest[0,2].sum() + v_rest[1,2].sum()"
      ],
      "metadata": {
        "colab": {
          "base_uri": "https://localhost:8080/"
        },
        "id": "JHYcLHrES8Bc",
        "outputId": "d22c4209-2b24-4b78-b14d-05133372b943"
      },
      "execution_count": null,
      "outputs": [
        {
          "output_type": "execute_result",
          "data": {
            "text/plain": [
              "-141.01324037"
            ]
          },
          "metadata": {},
          "execution_count": 31
        }
      ]
    },
    {
      "cell_type": "code",
      "source": [
        "#Task 8: Using negative indexing, return the second-to-last value in the second row of v_rest\n",
        "v_rest[1,-2]"
      ],
      "metadata": {
        "id": "ZDJRguFvTofQ",
        "colab": {
          "base_uri": "https://localhost:8080/"
        },
        "outputId": "583ccbda-8c9f-47fa-97d0-70d9f4c30feb"
      },
      "execution_count": null,
      "outputs": [
        {
          "output_type": "execute_result",
          "data": {
            "text/plain": [
              "-76.87584305"
            ]
          },
          "metadata": {},
          "execution_count": 32
        }
      ]
    },
    {
      "cell_type": "code",
      "source": [
        "#Task 9: make a histogram of the values in the first row of v_rest\n",
        "\n",
        "plt.hist(v_rest[0])\n",
        "plt.xlabel('Resting Membrane Potential')\n",
        "plt.ylabel('Frequency')"
      ],
      "metadata": {
        "colab": {
          "base_uri": "https://localhost:8080/",
          "height": 296
        },
        "id": "xgVwXNs-FU7X",
        "outputId": "542f2c00-8b04-4f33-f2da-5b5aa07f3aa9"
      },
      "execution_count": null,
      "outputs": [
        {
          "output_type": "execute_result",
          "data": {
            "text/plain": [
              "Text(0, 0.5, 'Frequency')"
            ]
          },
          "metadata": {},
          "execution_count": 34
        },
        {
          "output_type": "display_data",
          "data": {
            "text/plain": [
              "<Figure size 432x288 with 1 Axes>"
            ],
            "image/png": "[encoded data removed]"
          },
          "metadata": {
            "needs_background": "light"
          }
        }
      ]
    },
    {
      "cell_type": "code",
      "source": [
        "#Task 10: Set the mean of v_rest row 1 to v_rest_mean_1 and the mean of v_rest row 2 to v_rest_mean_2; print these values\n",
        "\n",
        "v_rest_mean_1 = st.mean(v_rest[0])\n",
        "v_rest_mean_2 = st.mean(v_rest[1])\n",
        "\n",
        "print(v_rest_mean_1, v_rest_mean_2)\n",
        "\n"
      ],
      "metadata": {
        "colab": {
          "base_uri": "https://localhost:8080/"
        },
        "id": "pWOHR8u1Fs3L",
        "outputId": "ef4f6095-04db-4d38-a7be-13060f65f229"
      },
      "execution_count": null,
      "outputs": [
        {
          "output_type": "stream",
          "name": "stdout",
          "text": [
            "-69.10344259538462 -70.56709785307692\n"
          ]
        }
      ]
    },
    {
      "cell_type": "markdown",
      "source": [
        "The mean of group one (*m* = -69.103) is less negative when compared to the mean of the second group (*m* = -70.567), therefore, making it the \"greater\" value.\n",
        "\n",
        "\n"
      ],
      "metadata": {
        "id": "WlY0snhjI-l5"
      }
    },
    {
      "cell_type": "code",
      "source": [
        "#Task 12: import scipy package; this will allow us to run a t-test\n",
        "\n",
        "import scipy.stats as stats"
      ],
      "metadata": {
        "id": "NS8U24X5I-Lo"
      },
      "execution_count": null,
      "outputs": []
    },
    {
      "cell_type": "code",
      "source": [
        "#Task 13: perform a t-test on the two rows of v_rest.\n",
        "stats.ttest_ind(v_rest[0], v_rest[1])\n"
      ],
      "metadata": {
        "colab": {
          "base_uri": "https://localhost:8080/"
        },
        "id": "Uaaq0TT0Kha2",
        "outputId": "bab1f017-59d5-4f84-b13c-e91b2c49a8ef"
      },
      "execution_count": null,
      "outputs": [
        {
          "output_type": "execute_result",
          "data": {
            "text/plain": [
              "Ttest_indResult(statistic=0.6261715678380525, pvalue=0.5371128989249812)"
            ]
          },
          "metadata": {},
          "execution_count": 39
        }
      ]
    },
    {
      "cell_type": "markdown",
      "source": [
        "The t-test performed to compare the means of the first and second row of v_rest revealed non-significant results (*p* = .573). For each score found within the rows, there is a 53.7% chance of finding that score within the standard deviation of the other row.\n"
      ],
      "metadata": {
        "id": "U33_TO9PMMHW"
      }
    }
  ]
}